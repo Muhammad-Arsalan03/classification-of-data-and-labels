{
  "nbformat": 4,
  "nbformat_minor": 0,
  "metadata": {
    "colab": {
      "name": "Copy of ML_Assignment.ipynb",
      "provenance": [],
      "collapsed_sections": []
    },
    "kernelspec": {
      "name": "python3",
      "display_name": "Python 3"
    },
    "language_info": {
      "name": "python"
    },
    "accelerator": "TPU"
  },
  "cells": [
    {
      "cell_type": "markdown",
      "source": [
        "# **Question 1a**"
      ],
      "metadata": {
        "id": "yMMnFlMxnogP"
      }
    },
    {
      "cell_type": "code",
      "source": [
        ""
      ],
      "metadata": {
        "id": "cb8-BWmbnkT8"
      },
      "execution_count": null,
      "outputs": []
    },
    {
      "cell_type": "code",
      "execution_count": null,
      "metadata": {
        "id": "rkeNlBbSawoq"
      },
      "outputs": [],
      "source": [
        "import pandas as pd\n",
        "import numpy as np\n",
        "import seaborn as sns\n",
        "import matplotlib\n",
        "import tensorflow\n",
        "import tensorflow as tf\n",
        "import matplotlib.pyplot as plt\n",
        "import matplotlib.colors\n",
        "from warnings import filterwarnings\n",
        "filterwarnings(action='ignore')"
      ]
    },
    {
      "cell_type": "code",
      "source": [
        "points1 = pd.read_csv(\"/content/points.txt\", sep=\" \")\n",
        "points = np.loadtxt(\"/content/points.txt\", dtype=float)\n",
        "print(points)\n",
        "points.shape"
      ],
      "metadata": {
        "colab": {
          "base_uri": "https://localhost:8080/"
        },
        "id": "bgJAdPVIz5sy",
        "outputId": "31cf061e-7889-4788-e6dc-40a43736fc09"
      },
      "execution_count": null,
      "outputs": [
        {
          "output_type": "stream",
          "name": "stdout",
          "text": [
            "[[-0.18499166 -0.57554287]\n",
            " [ 0.23985533 -0.92359283]\n",
            " [-0.05489109 -0.05299839]\n",
            " ...\n",
            " [-0.42331549  0.63802215]\n",
            " [ 0.01330265 -0.82599817]\n",
            " [-0.15392103  0.97118776]]\n"
          ]
        },
        {
          "output_type": "execute_result",
          "data": {
            "text/plain": [
              "(4000, 2)"
            ]
          },
          "metadata": {},
          "execution_count": 121
        }
      ]
    },
    {
      "cell_type": "code",
      "source": [
        "pointLabels1 = pd.read_csv(\"/content/labels.txt\", sep=\" \")\n",
        "pointLabels = np.loadtxt(\"/content/labels.txt\", dtype=float)\n",
        "print(pointLabels)\n",
        "pointLabels.shape"
      ],
      "metadata": {
        "colab": {
          "base_uri": "https://localhost:8080/"
        },
        "id": "7pDoZBN408S7",
        "outputId": "7e04949a-4bf3-4ba7-867d-e3af5a46ad7a"
      },
      "execution_count": null,
      "outputs": [
        {
          "output_type": "stream",
          "name": "stdout",
          "text": [
            "[2. 2. 3. ... 1. 2. 0.]\n"
          ]
        },
        {
          "output_type": "execute_result",
          "data": {
            "text/plain": [
              "(4000,)"
            ]
          },
          "metadata": {},
          "execution_count": 122
        }
      ]
    },
    {
      "cell_type": "code",
      "source": [
        ""
      ],
      "metadata": {
        "id": "ae-EPQnPdt9g"
      },
      "execution_count": null,
      "outputs": []
    },
    {
      "cell_type": "code",
      "source": [
        "print(points.shape, pointLabels.shape)"
      ],
      "metadata": {
        "colab": {
          "base_uri": "https://localhost:8080/"
        },
        "id": "xoAL2NxhcXAG",
        "outputId": "5d4bed97-bcda-46f8-dc8e-8c9ed32fcf14"
      },
      "execution_count": null,
      "outputs": [
        {
          "output_type": "stream",
          "name": "stdout",
          "text": [
            "(4000, 2) (4000,)\n"
          ]
        }
      ]
    },
    {
      "cell_type": "code",
      "source": [
        "x=points1.iloc[:,0].values\n",
        "y=points1.iloc[:,1].values\n",
        "C=pointLabels1.iloc[:,0].values\n",
        "x.shape\n",
        "y.shape\n",
        "C.shape\n"
      ],
      "metadata": {
        "colab": {
          "base_uri": "https://localhost:8080/"
        },
        "id": "PtWkymyecf8m",
        "outputId": "e6c11b95-d3a2-4cb6-f0df-7d727695f4d9"
      },
      "execution_count": null,
      "outputs": [
        {
          "output_type": "execute_result",
          "data": {
            "text/plain": [
              "(3999,)"
            ]
          },
          "metadata": {},
          "execution_count": 124
        }
      ]
    },
    {
      "cell_type": "code",
      "source": [
        "def lim(points1, gap):\n",
        "    low  = min(points1)\n",
        "    high = max(points1)\n",
        "    span = high - low\n",
        "\n",
        "    return low - span*gap/2, high + span*gap/2\n",
        "\n",
        "colors = [ 'red', 'green', 'blue','cyan']\n",
        "for i, c in enumerate(colors):\n",
        "    ind = C == (i+1)\n",
        "    plt.scatter(x[ind], y[ind], c=c, s=10)\n",
        "   \n",
        "plt.show()"
      ],
      "metadata": {
        "colab": {
          "base_uri": "https://localhost:8080/",
          "height": 265
        },
        "id": "vNeOnSI70oAv",
        "outputId": "a2f88c2e-d37a-488d-a15b-86c6b7f596ba"
      },
      "execution_count": null,
      "outputs": [
        {
          "output_type": "display_data",
          "data": {
            "text/plain": [
              "<Figure size 432x288 with 1 Axes>"
            ],
            "image/png": "[encoded data removed]"
          },
          "metadata": {
            "needs_background": "light"
          }
        }
      ]
    },
    {
      "cell_type": "code",
      "source": [
        "def question1a(points,pointLabels):\n",
        "    if 'points' in locals():\n",
        "        assert type(points) == np.ndarray, 'points is not a numpy array'\n",
        "        assert points.shape == (4000,2),'points array is not of the expected size'\n",
        "    else:\n",
        "        raise Exception('points array not defined')\n",
        "        \n",
        "    if 'pointLabels' in locals():\n",
        "        assert type(pointLabels) == np.ndarray, 'pointLabels is not a numpy array'\n",
        "        assert pointLabels.shape == (4000,),'pointLabels array is not of the expected size'\n",
        "    else:\n",
        "        raise Exception('pointLabels array not defined')\n",
        "        \n",
        "    print('points and labels seem to be defined properly')"
      ],
      "metadata": {
        "id": "U_zWou1h8Wec"
      },
      "execution_count": null,
      "outputs": []
    },
    {
      "cell_type": "code",
      "source": [
        "question1a(points,pointLabels)"
      ],
      "metadata": {
        "id": "mJIfVH608WiQ",
        "colab": {
          "base_uri": "https://localhost:8080/"
        },
        "outputId": "f8ffccc4-5241-4836-a007-dbc4ef4fd62c"
      },
      "execution_count": null,
      "outputs": [
        {
          "output_type": "stream",
          "name": "stdout",
          "text": [
            "points and labels seem to be defined properly\n"
          ]
        }
      ]
    },
    {
      "cell_type": "markdown",
      "source": [
        "# **Question 1b**"
      ],
      "metadata": {
        "id": "3YA9Uh2L_qXK"
      }
    },
    {
      "cell_type": "code",
      "source": [
        "from sklearn.model_selection import train_test_split\n",
        "X_train, pointsTest, y_train, pointLabelsTest = train_test_split(points, pointLabels, test_size=0.5)"
      ],
      "metadata": {
        "id": "u9lVKMZ__uCv"
      },
      "execution_count": null,
      "outputs": []
    },
    {
      "cell_type": "code",
      "source": [
        "pointsTrain, pointsVal, pointLabelsTrain, pointLabelsVal = train_test_split(X_train, y_train, test_size=0.2)"
      ],
      "metadata": {
        "id": "DwV0IBhw8WwJ"
      },
      "execution_count": null,
      "outputs": []
    },
    {
      "cell_type": "code",
      "source": [
        "def question1b(pointsTrain,pointsVal,pointsTest,pointLabelsTrain,pointLabelsVal,pointLabelsTest):\n",
        "    if 'pointsTrain' in locals():\n",
        "        assert type(pointsTrain) == np.ndarray, 'pointsTrain is not a numpy array'\n",
        "        assert pointsTrain.shape == (1600,2),'pointsTrain array is not of the expected size'\n",
        "    else:\n",
        "        raise Exception('pointsTrain array not defined')\n",
        "        \n",
        "    if 'pointsVal' in locals():\n",
        "        assert type(pointsVal) == np.ndarray, 'pointsVal is not a numpy array'\n",
        "        assert pointsVal.shape == (400,2),'pointsVal array is not of the expected size'\n",
        "    else:\n",
        "        raise Exception('pointsVal array not defined')\n",
        "        \n",
        "    if 'pointsTest' in locals():\n",
        "        assert type(pointsTest) == np.ndarray, 'pointsTest is not a numpy array'\n",
        "        assert pointsTest.shape == (2000,2),'pointsTest array is not of the expected size'\n",
        "    else:\n",
        "        raise Exception('pointsTest array not defined')\n",
        "        \n",
        "    if 'pointLabelsTrain' in locals():\n",
        "        assert type(pointLabelsTrain) == np.ndarray, 'pointLabelsTrain is not a numpy array'\n",
        "        assert pointLabelsTrain.shape == (1600,),'pointLabelsTrain array is not of the expected size'\n",
        "    else:\n",
        "        raise Exception('pointLabelsTrain array not defined')\n",
        "        \n",
        "    if 'pointLabelsVal' in locals():\n",
        "        assert type(pointLabelsVal) == np.ndarray, 'pointLabelsVal is not a numpy array'\n",
        "        assert pointLabelsVal.shape == (400,),'pointLabelsVal array is not of the expected size'\n",
        "    else:\n",
        "        raise Exception('pointLabelsVal array not defined')\n",
        "        \n",
        "    if 'pointLabelsTest' in locals():\n",
        "        assert type(pointLabelsTest) == np.ndarray, 'pointLabelsTest is not a numpy array'\n",
        "        assert pointLabelsTest.shape == (2000,),'pointLabelsTest array is not of the expected size'\n",
        "    else:\n",
        "        raise Exception('pointLabelsTest array not defined')\n",
        "        \n",
        "    print('Training validation and test sets seem to be defined properly')"
      ],
      "metadata": {
        "id": "167tnYdE8W0O"
      },
      "execution_count": null,
      "outputs": []
    },
    {
      "cell_type": "code",
      "source": [
        "question1b(pointsTrain,pointsVal,pointsTest,pointLabelsTrain,pointLabelsVal,pointLabelsTest)"
      ],
      "metadata": {
        "id": "11yUHYbR8W4U",
        "colab": {
          "base_uri": "https://localhost:8080/"
        },
        "outputId": "6aa00bba-9982-4698-99e2-8811cb69d163"
      },
      "execution_count": null,
      "outputs": [
        {
          "output_type": "stream",
          "name": "stdout",
          "text": [
            "Training validation and test sets seem to be defined properly\n"
          ]
        }
      ]
    },
    {
      "cell_type": "code",
      "source": [
        ""
      ],
      "metadata": {
        "id": "StOsOjs0MVLk"
      },
      "execution_count": null,
      "outputs": []
    },
    {
      "cell_type": "markdown",
      "source": [
        "# **Question 1c**"
      ],
      "metadata": {
        "id": "sx2YNRbNDzFp"
      }
    },
    {
      "cell_type": "code",
      "source": [
        "pointsTrain=np.loadtxt('/content/points.txt')\n",
        "pointLabelTrain=np.loadtxt('/content/labels.txt')\n",
        "\n",
        "import tensorflow as tf\n",
        "hiddenUnits = [256,512]\n",
        "hiddenLayers=[1,2]\n",
        "for layers in hiddenLayers:\n",
        "  for units in hiddenUnits:\n",
        "    model=tf.keras.Sequential()\n",
        "    for i in range(layers):\n",
        "      model.add(tf.keras.layers.Dense(units,activation='relu'))\n",
        "    model.add(tf.keras.layers.Dense(4,activation='softmax'))\n",
        "\n",
        "      \n",
        "    model.compile(optimizer='adam',\n",
        "                    loss=tf.keras.losses.SparseCategoricalCrossentropy(),\n",
        "                    metrics='accuracy')\n",
        "    model.fit(pointsTrain,\n",
        "                pointLabelTrain,\n",
        "                epochs=2)\n",
        "    lossVal, accVal=model.evaluate(pointsVal,pointLabelsVal)\n",
        "    if units==hiddenUnits[0]:\n",
        "        modelOpt=model\n",
        "        lossOpt=lossVal\n",
        "        accOpt=accVal\n",
        "        unitsOpt=units\n",
        "        layersOpt=layers\n",
        "    else:\n",
        "      if accVal>accOpt:\n",
        "          modelOpt=model\n",
        "          lossOpt=lossVal\n",
        "          accOpt=accVal\n",
        "          unitsOpt=units\n",
        "          layersOpt=layers\n",
        "\n",
        "print(unitsOpt)\n",
        "print(modelOpt.layers[0].units)\n"
      ],
      "metadata": {
        "colab": {
          "base_uri": "https://localhost:8080/"
        },
        "id": "rDzThUsCFjzz",
        "outputId": "506df62b-8492-490f-daff-05ed63d8cadd"
      },
      "execution_count": null,
      "outputs": [
        {
          "output_type": "stream",
          "name": "stdout",
          "text": [
            "Epoch 1/2\n",
            "125/125 [==============================] - 1s 4ms/step - loss: 0.9562 - accuracy: 0.6862\n",
            "Epoch 2/2\n",
            "125/125 [==============================] - 0s 2ms/step - loss: 0.6497 - accuracy: 0.7347\n",
            "13/13 [==============================] - 1s 40ms/step - loss: 0.6240 - accuracy: 0.7425\n",
            "Epoch 1/2\n",
            "125/125 [==============================] - 1s 2ms/step - loss: 0.8646 - accuracy: 0.6957\n",
            "Epoch 2/2\n",
            "125/125 [==============================] - 0s 2ms/step - loss: 0.5928 - accuracy: 0.7535\n",
            "13/13 [==============================] - 1s 96ms/step - loss: 0.5698 - accuracy: 0.7700\n",
            "Epoch 1/2\n",
            "125/125 [==============================] - 1s 3ms/step - loss: 0.6938 - accuracy: 0.7330\n",
            "Epoch 2/2\n",
            "125/125 [==============================] - 1s 6ms/step - loss: 0.4156 - accuracy: 0.8397\n",
            "13/13 [==============================] - 0s 2ms/step - loss: 0.3857 - accuracy: 0.8300\n",
            "Epoch 1/2\n",
            "125/125 [==============================] - 2s 10ms/step - loss: 0.6085 - accuracy: 0.7590\n",
            "Epoch 2/2\n",
            "125/125 [==============================] - 1s 11ms/step - loss: 0.3717 - accuracy: 0.8438\n",
            "13/13 [==============================] - 0s 3ms/step - loss: 0.3329 - accuracy: 0.8475\n",
            "512\n",
            "512\n"
          ]
        }
      ]
    },
    {
      "cell_type": "code",
      "source": [
        "lossTest, accTest = modelOpt.evaluate(pointsTest,  pointLabelsTest)"
      ],
      "metadata": {
        "colab": {
          "base_uri": "https://localhost:8080/"
        },
        "id": "Nzh_gNp3o6MZ",
        "outputId": "906cfe48-5d42-4f58-da99-5fb028c2898e"
      },
      "execution_count": null,
      "outputs": [
        {
          "output_type": "stream",
          "name": "stdout",
          "text": [
            "63/63 [==============================] - 1s 13ms/step - loss: 0.3132 - accuracy: 0.8690\n"
          ]
        }
      ]
    },
    {
      "cell_type": "code",
      "source": [
        "def question1c(layersOpt,unitsOpt,lossOpt,accOpt,modelOpt,pointsVal,pointLabelsVal):\n",
        "    if 'layersOpt' in locals():\n",
        "        assert type(layersOpt) == int, 'layersOpt is not an integer'\n",
        "    else:\n",
        "        raise Exception('layersOpt not defined')\n",
        "        \n",
        "    if 'unitsOpt' in locals():\n",
        "        assert type(unitsOpt) == int, 'unitsOpt is not an integer'\n",
        "    else:\n",
        "        raise Exception('unitsOpt not defined')\n",
        "    \n",
        "    if 'lossOpt' in locals():\n",
        "        assert type(lossOpt) == float, 'lossOpt is not a float'\n",
        "    else:\n",
        "        raise Exception('lossOpt not defined')\n",
        "        \n",
        "    if 'accOpt' in locals():\n",
        "        assert type(accOpt) == float, 'accOpt is not a float'\n",
        "    else:\n",
        "        raise Exception('accOpt not defined')\n",
        "        \n",
        "    if 'modelOpt' in locals():\n",
        "        assert type(modelOpt) == tf.keras.Sequential, 'modelOpt is not a keras model'\n",
        "        assert len(modelOpt.layers)==layersOpt+1,'The number of hidden layers in the model is not the same as variable unitsOpt'\n",
        "        assert modelOpt.layers[0].units==unitsOpt,'The number of units in the model is not the same as variable unitsOpt'\n",
        "        \n",
        "        assert len(modelOpt.layers) in [2,3,5], 'The number of hidden layers in the model is outside the specified values'\n",
        "        assert modelOpt.layers[0].units in [64,128,256,512], 'The number of hidden units in the model is outside the specified values'\n",
        "        \n",
        "        lossVal, accVal = modelOpt.evaluate(pointsVal,  pointLabelsVal)\n",
        "        \n",
        "        assert lossVal==lossOpt and accVal==accOpt, 'The accuracy of the model is different than what is stored in accOpt'\n",
        "        \n",
        "        assert accVal>0.8, 'The accuracy of your model seems very low. Make sure you have trained it properly.'\n",
        "    else:\n",
        "        raise Exception('modelOpt array not defined')\n",
        "        \n",
        "    print('The keras model seems to be defined properly!')"
      ],
      "metadata": {
        "id": "V8hq7Z9qDwzq"
      },
      "execution_count": null,
      "outputs": []
    },
    {
      "cell_type": "code",
      "source": [
        "question1c(layersOpt,unitsOpt,lossOpt,accOpt,modelOpt,pointsVal,pointLabelsVal)"
      ],
      "metadata": {
        "id": "4tC_PGQvDw3c",
        "colab": {
          "base_uri": "https://localhost:8080/"
        },
        "outputId": "52bb1f58-1c76-4b2b-b0bf-2b97910cd7ef"
      },
      "execution_count": null,
      "outputs": [
        {
          "output_type": "stream",
          "name": "stdout",
          "text": [
            "13/13 [==============================] - 1s 44ms/step - loss: 0.3329 - accuracy: 0.8475\n",
            "The keras model seems to be defined properly!\n"
          ]
        }
      ]
    },
    {
      "cell_type": "code",
      "source": [
        ""
      ],
      "metadata": {
        "id": "SbzqD0jQcxpM"
      },
      "execution_count": null,
      "outputs": []
    },
    {
      "cell_type": "markdown",
      "source": [
        "# **Question 1d**"
      ],
      "metadata": {
        "id": "vDGF1Cho-deu"
      }
    },
    {
      "cell_type": "code",
      "source": [
        "y_predict= modelOpt.predict(pointsTest)\n",
        "pred = np.argmax(y_predict,axis=1)"
      ],
      "metadata": {
        "id": "gtmnyUCN9arv"
      },
      "execution_count": null,
      "outputs": []
    },
    {
      "cell_type": "code",
      "source": [
        "from sklearn.metrics import confusion_matrix, ConfusionMatrixDisplay,classification_report\n",
        "\n",
        "pointsConfusionMatrix=confusion_matrix(pointLabelsTest,pred)\n",
        "\n",
        "classLabels = ['defect','No-defect']\n",
        "\n",
        "pointsConfusionMatrixPlot = ConfusionMatrixDisplay(confusion_matrix=pointsConfusionMatrix, display_labels=classLabels)\n",
        "\n",
        "pointsConfusionMatrixPlot.plot()"
      ],
      "metadata": {
        "colab": {
          "base_uri": "https://localhost:8080/",
          "height": 296
        },
        "id": "c8yGpHnf9aye",
        "outputId": "6b811150-24ba-402f-c58b-d2c659ae31ba"
      },
      "execution_count": null,
      "outputs": [
        {
          "output_type": "execute_result",
          "data": {
            "text/plain": [
              "<sklearn.metrics._plot.confusion_matrix.ConfusionMatrixDisplay at 0x7fd99f749f10>"
            ]
          },
          "metadata": {},
          "execution_count": 221
        },
        {
          "output_type": "display_data",
          "data": {
            "text/plain": [
              "<Figure size 432x288 with 2 Axes>"
            ],
            "image/png": "[encoded data removed]"
          },
          "metadata": {
            "needs_background": "light"
          }
        }
      ]
    },
    {
      "cell_type": "code",
      "source": [
        "def question1d(accTest,accOpt,lossTest,pointsConfusionMatrix,pointsConfusionMatrixPlot):\n",
        "    if 'accTest' in locals():\n",
        "        assert type(accTest) == float, 'accTest is not an float'    \n",
        "        assert accTest>accOpt-0.04, 'Your test accuracy seems significantly smaller than your validation accuracy. Make sure your model is trained properly.'\n",
        "    else:\n",
        "        raise Exception('accTest not defined')\n",
        "        \n",
        "    if 'lossTest' in locals():\n",
        "        assert type(lossTest) == float, 'lossTest is not an float'\n",
        "    else:\n",
        "        raise Exception('lossTest not defined')\n",
        "        \n",
        "    if 'pointsConfusionMatrix' in locals():\n",
        "        assert type(pointsConfusionMatrix) == np.ndarray, 'pointsConfusionMatrix is of the proper type'\n",
        "        assert pointsConfusionMatrix.shape == (4,4),'pointsConfusionMatrix is not of the expected size'\n",
        "    else:\n",
        "        raise Exception('pointsConfusionMatrix not defined')\n",
        "        \n",
        "    if 'pointsConfusionMatrixPlot' in locals():\n",
        "        assert type(pointsConfusionMatrixPlot) == ConfusionMatrixDisplay, 'pointsConfusionMatrixPlot is of the proper type'\n",
        "    else:\n",
        "        raise Exception('pointsConfusionMatrixPlot not defined')\n",
        "        \n",
        "    print('The test set accuracy and confusion matrix seem to be defined properly.')\n",
        "    "
      ],
      "metadata": {
        "id": "zrLM_tJzSA6j"
      },
      "execution_count": null,
      "outputs": []
    },
    {
      "cell_type": "code",
      "source": [
        "question1d(accTest,accOpt,lossTest,pointsConfusionMatrix,pointsConfusionMatrixPlot)"
      ],
      "metadata": {
        "colab": {
          "base_uri": "https://localhost:8080/"
        },
        "id": "4q4zAz7GSEPF",
        "outputId": "6130f7ff-a7a1-4a2c-e7c7-70c4e1e780f7"
      },
      "execution_count": null,
      "outputs": [
        {
          "output_type": "stream",
          "name": "stdout",
          "text": [
            "The test set accuracy and confusion matrix seem to be defined properly.\n"
          ]
        }
      ]
    },
    {
      "cell_type": "markdown",
      "source": [
        "# **Question 1e**"
      ],
      "metadata": {
        "id": "jRBZ2pL0uUox"
      }
    },
    {
      "cell_type": "code",
      "source": [
        "def plotDecisionBoundary(model,limx=[-1,1],limy=[-1,1],resolution=200, colormap = 'RdBu'):\n",
        "    '''Function to plot the decision boundary of a tensorflow model as a contour plot.\n",
        "       model is the model, which should have a predict method\n",
        "       limx, limy are the limits of the plot in x and y\n",
        "       resolution is the resolution of the plot in terms of the number of points used per direction\n",
        "       colormap is the colormap to be used for the contour plot\n",
        "       The function returns a figure and an axis object'''\n",
        "    \n",
        "    #create figure\n",
        "    fig,ax = plt.subplots(1,1)\n",
        "    \n",
        "    #create linspaces with the x and y coordinates of the points to be used for the contour plot\n",
        "    #the limits and resolution are set to the user provided values\n",
        "    xPoints = np.linspace(limx[0], limx[1], resolution)\n",
        "    yPoints = np.linspace(limy[0], limy[1], resolution)\n",
        "    \n",
        "    #create a meshgrid from the provided\n",
        "    xx, yy = np.meshgrid(xPoints, yPoints)\n",
        "    \n",
        "    #use model to predict the labels of the generated points\n",
        "    #ravel and c_ are used to bring the coordinates in the correct shape\n",
        "    modelPred = model.predict(np.c_[xx.ravel(), yy.ravel()])\n",
        "    \n",
        "    #check shape of the output, if the output is twodimensional and the size in the second dimension is more than 1\n",
        "    #then the ouput is assumed to be provided in terms of probabilities and is converted to class indices using the argmax function\n",
        "    if len(modelPred.shape)==2 and modelPred.shape[1]!=1:\n",
        "        modelPred = np.argmax(modelPred,axis=1)\n",
        "    else:\n",
        "    #if the output is either onedimensional or the second dimension has size one, \n",
        "    #then it is assumed to be labels for binary classification and a 0.5 threshold is applied to convert to binary format\n",
        "        modelPred = modelPred>0.5\n",
        "    \n",
        "    #reshape the labels to the shape of xx and yy so that they can be used for a contour plot\n",
        "    z = modelPred.reshape(xx.shape)\n",
        "\n",
        "    #create contour plot\n",
        "    ax.contourf(xx,yy,z,cmap=colormap,alpha=0.5)\n",
        "    \n",
        "    #return figure and axis\n",
        "    return fig,ax"
      ],
      "metadata": {
        "id": "_ygB3AQFuX0V"
      },
      "execution_count": null,
      "outputs": []
    },
    {
      "cell_type": "code",
      "source": [
        "plotDecisionBoundary(modelOpt,limx=[-1,1],limy=[-1,1],resolution=200, colormap = 'RdBu')"
      ],
      "metadata": {
        "id": "XgwaCftCDw7m",
        "colab": {
          "base_uri": "https://localhost:8080/",
          "height": 304
        },
        "outputId": "b25b7966-d5eb-43a3-c076-feb5aeb4972c"
      },
      "execution_count": null,
      "outputs": [
        {
          "output_type": "execute_result",
          "data": {
            "text/plain": [
              "(<Figure size 432x288 with 1 Axes>,\n",
              " <matplotlib.axes._subplots.AxesSubplot at 0x7fd99f788f50>)"
            ]
          },
          "metadata": {},
          "execution_count": 223
        },
        {
          "output_type": "display_data",
          "data": {
            "text/plain": [
              "<Figure size 432x288 with 1 Axes>"
            ],
            "image/png": "[encoded data removed]"
          },
          "metadata": {
            "needs_background": "light"
          }
        }
      ]
    },
    {
      "cell_type": "markdown",
      "source": [
        "# **Question 2a**"
      ],
      "metadata": {
        "id": "7nVnI4-bhKxP"
      }
    },
    {
      "cell_type": "code",
      "source": [
        "from keras.preprocessing.image import ImageDataGenerator\n",
        "from sklearn.model_selection import train_test_split\n",
        "from keras.preprocessing.image import img_to_array\n",
        "from imutils import paths\n",
        "import matplotlib.pyplot as plt\n",
        "import numpy as np\n",
        "import argparse\n",
        "import random\n",
        "import cv2\n",
        "import os"
      ],
      "metadata": {
        "id": "7h_MB-8d8W9G"
      },
      "execution_count": null,
      "outputs": []
    },
    {
      "cell_type": "code",
      "source": [
        "get_ipython().system_raw(\"unrar x /content/casting_data.rar\")"
      ],
      "metadata": {
        "id": "0_sYoOInog7b"
      },
      "execution_count": null,
      "outputs": []
    },
    {
      "cell_type": "code",
      "source": [
        "get_ipython().system_raw(\"unrar x /content/test.rar\")"
      ],
      "metadata": {
        "id": "2X2Bc3g0n3RA"
      },
      "execution_count": null,
      "outputs": []
    },
    {
      "cell_type": "code",
      "source": [
        "\n",
        "def loadImageFiles(path, filesPerClass=0, colorFlag=cv2.IMREAD_GRAYSCALE):\n",
        "    \"\"\"Function to load load images from athe provided path directory. \n",
        "       It is assumed that, within the directory, different folders will\n",
        "       contain images from different classes. The optional argument filesPerClass\n",
        "       can be used to select a subset of the total data from each class,\n",
        "       if the default value of 0 is used, then all the available files are loaded.\n",
        "       The optional argument colorFlag specifies how the files should be loaded, the default option is\n",
        "       cv2.IMREAD_UNCHANGED, which will not change the type of the file, but the options\n",
        "       cv2.IMREAD_COLOR and cv2.IMREAD_GRAYSCALE can also be used to read images as color and\n",
        "       grayscale respectively.The function returns a numpy array whose first dimension corresponds to different images,\n",
        "       and an array with the labels\"\"\"\n",
        "    \n",
        "    #initialise images and labels as empty lists\n",
        "    images=[]\n",
        "    labels=[]\n",
        "    \n",
        "    #initialise label counter to 0\n",
        "    label=0\n",
        "    \n",
        "    #use os to find the names of all folders within the provided directory\n",
        "    folders = os.listdir(path)\n",
        "    \n",
        "    #loop extracted folders\n",
        "    for folder in folders:\n",
        "        print('Loading folder: ', folder)\n",
        "        \n",
        "        #path to each folder\n",
        "        folderPath=os.path.join(path, folder)\n",
        "        \n",
        "        #use os to find the names of all files in each folder\n",
        "        files=os.listdir(folderPath)\n",
        "        \n",
        "        #set the number of files to read\n",
        "        #if the filesPerClass argument is 0, then all available files are loaded\n",
        "        #otherwise only the first filesPerClass\n",
        "        if filesPerClass==0:\n",
        "            nfiles=len(files)\n",
        "        else:\n",
        "            nfiles=filesPerClass\n",
        "        \n",
        "        #loop files in directory\n",
        "        for f in files[:nfiles]:\n",
        "            #path for each file\n",
        "            filePath=os.path.join(folderPath, f)\n",
        "            \n",
        "            #check whether the created path actually contains a file\n",
        "            if os.path.isfile(filePath):\n",
        "                #read image using the provided flag for the type of color\n",
        "                img = cv2.imread(filePath, colorFlag)\n",
        "                #append image to the images list\n",
        "                images.append(img)\n",
        "                #append label to the labels list\n",
        "                labels.append(label)\n",
        "        \n",
        "        #increase label counter\n",
        "        label+=1\n",
        "    \n",
        "    #convert images and labels converted to numpy arrays\n",
        "    return np.array(images), np.array(labels)"
      ],
      "metadata": {
        "id": "LYdhjIhV5fN2"
      },
      "execution_count": null,
      "outputs": []
    },
    {
      "cell_type": "code",
      "source": [
        "\n",
        "path='/content/casting_data/train'\n",
        "imagesTrain,imageLabelsTrain = loadImageFiles(path,filesPerClass = 6633)\n",
        "imagesTrain.shape\n"
      ],
      "metadata": {
        "colab": {
          "base_uri": "https://localhost:8080/"
        },
        "outputId": "3c72b978-2fec-40df-a199-8dbe3cf1b38c",
        "id": "QS_x7nm4FzY2"
      },
      "execution_count": null,
      "outputs": [
        {
          "output_type": "stream",
          "name": "stdout",
          "text": [
            "Loading folder:  ok_front\n",
            "Loading folder:  def_front\n"
          ]
        },
        {
          "output_type": "execute_result",
          "data": {
            "text/plain": [
              "(6633, 300, 300)"
            ]
          },
          "metadata": {},
          "execution_count": 6
        }
      ]
    },
    {
      "cell_type": "code",
      "source": [
        "path='/content/casting_data/test'\n",
        "imagesTest,imageLabelsTest = loadImageFiles(path,filesPerClass = 800)\n",
        "imagesTest.shape"
      ],
      "metadata": {
        "colab": {
          "base_uri": "https://localhost:8080/"
        },
        "outputId": "d26d188e-1d1e-476c-edd2-a46c1c4e4c43",
        "id": "B3JDRW_ZFUTC"
      },
      "execution_count": null,
      "outputs": [
        {
          "output_type": "stream",
          "name": "stdout",
          "text": [
            "Loading folder:  ok_front\n",
            "Loading folder:  def_front\n"
          ]
        },
        {
          "output_type": "execute_result",
          "data": {
            "text/plain": [
              "(715, 300, 300)"
            ]
          },
          "metadata": {},
          "execution_count": 7
        }
      ]
    },
    {
      "cell_type": "code",
      "source": [
        "def question2a(imagesTrain,imageLabelsTrain,imagesTest,imageLabelsTest):\n",
        "    if 'imagesTrain' in locals():\n",
        "        assert type(imagesTrain) == np.ndarray, 'imagesTrain is not a numpy array'\n",
        "        assert imagesTrain.shape == (6633, 300, 300),'imagesTrain array is not of the expected size'\n",
        "    else:\n",
        "        raise Exception('imagesTrain array not defined')\n",
        "        \n",
        "    if 'imageLabelsTrain' in locals():\n",
        "        assert type(imageLabelsTrain) == np.ndarray, 'imageLabelsTrain is not a numpy array'\n",
        "        assert imageLabelsTrain.shape == (6633,),'imageLabelsTrain array is not of the expected size'\n",
        "    else:\n",
        "        raise Exception('imageLabelsTrain array not defined')\n",
        "        \n",
        "    if 'imagesTest' in locals():\n",
        "        assert type(imagesTest) == np.ndarray, 'imagesTest is not a numpy array'\n",
        "        assert imagesTest.shape == (715, 300, 300),'imagesTest array is not of the expected size'\n",
        "    else:\n",
        "        raise Exception('imagesTest array not defined')\n",
        "        \n",
        "    if 'imageLabelsTest' in locals():\n",
        "        assert type(imageLabelsTest) == np.ndarray, 'imageLabelsTest is not a numpy array'\n",
        "        assert imageLabelsTest.shape == (715,),'imageLabelsTest array is not of the expected size'\n",
        "    else:\n",
        "        raise Exception('imageLabelsTest array not defined')\n",
        "        \n",
        "    print('Images and labels seem to be defined properly.')"
      ],
      "metadata": {
        "id": "SiNlZlIDxnsN"
      },
      "execution_count": null,
      "outputs": []
    },
    {
      "cell_type": "code",
      "source": [
        "question2a(imagesTrain,imageLabelsTrain,imagesTest,imageLabelsTest)"
      ],
      "metadata": {
        "colab": {
          "base_uri": "https://localhost:8080/"
        },
        "id": "XSdSOnzaxn2K",
        "outputId": "6b5a96b3-6c78-45b9-c955-e340173a1314"
      },
      "execution_count": null,
      "outputs": [
        {
          "output_type": "stream",
          "name": "stdout",
          "text": [
            "Images and labels seem to be defined properly.\n"
          ]
        }
      ]
    },
    {
      "cell_type": "markdown",
      "source": [
        "# **Question 2b**"
      ],
      "metadata": {
        "id": "yqAJPRq8IcXK"
      }
    },
    {
      "cell_type": "code",
      "source": [
        "imagesTrain, imagesVal, imageLabelsTrain, imageLabelsVal = train_test_split(imagesTrain, imageLabelsTrain, test_size=0.20, random_state=42)\n"
      ],
      "metadata": {
        "id": "TST_SBrJIUFo"
      },
      "execution_count": null,
      "outputs": []
    },
    {
      "cell_type": "code",
      "source": [
        "imagesTest=imagesTest/255.0\n",
        "imagesTrain=imagesTrain/255.0\n",
        "imagesTrain=imagesTrain/255.0\n",
        "imagesVal =imagesVal /255.0"
      ],
      "metadata": {
        "id": "0hWzWskWUSkR"
      },
      "execution_count": null,
      "outputs": []
    },
    {
      "cell_type": "code",
      "source": [
        "def question2b(imagesTest,imageLabelsTest,imagesTrain,imageLabelsTrain,imagesVal,imageLabelsVal):\n",
        "    if 'imagesTest' in locals():\n",
        "        assert type(imagesTest) == np.ndarray, 'imagesTest is not a numpy array'\n",
        "        assert imagesTest.shape == (715, 300, 300),'imagesTest array is not of the expected size'\n",
        "        assert imagesTest.max()<=1 and imagesTest.min()>=0, 'imagesTest is not normalised'\n",
        "    else:\n",
        "        raise Exception('imagesTest array not defined')\n",
        "        \n",
        "    if 'imageLabelsTest' in locals():\n",
        "        assert type(imageLabelsTest) == np.ndarray, 'imageLabelsTest is not a numpy array'\n",
        "        assert imageLabelsTest.shape == (715,),'imageLabelsTest array is not of the expected size'\n",
        "    else:\n",
        "        raise Exception('imageLabelsTest array not defined')\n",
        "    \n",
        "    if 'imagesTrain' in locals():\n",
        "        assert type(imagesTrain) == np.ndarray, 'imagesTrain is not a numpy array'\n",
        "        assert imagesTrain.shape == (5306, 300, 300),'imagesTrain array is not of the expected size'\n",
        "        assert imagesTrain.max()<=1 and imagesTrain.min()>=0, 'imagesTrain is not normalised'\n",
        "    else:\n",
        "        raise Exception('imagesTrain array not defined')\n",
        "        \n",
        "    if 'imageLabelsTrain' in locals():\n",
        "        assert type(imageLabelsTrain) == np.ndarray, 'imageLabelsTrain is not a numpy array'\n",
        "        assert imageLabelsTrain.shape == (5306,),'imageLabelsTrain array is not of the expected size'\n",
        "    else:\n",
        "        raise Exception('imageLabelsTrain array not defined')\n",
        "    \n",
        "    \n",
        "    if 'imagesVal' in locals():\n",
        "        assert type(imagesVal) == np.ndarray, 'imagesVal is not a numpy array'\n",
        "        assert imagesVal.shape == (1327, 300, 300),'imagesVal array is not of the expected size'\n",
        "        assert imagesVal.max()<=1 and imagesVal.min()>=0, 'imagesVal is not normalised'\n",
        "    else:\n",
        "        raise Exception('imagesVal array not defined')\n",
        "        \n",
        "    if 'imageLabelsVal' in locals():\n",
        "        assert type(imageLabelsVal) == np.ndarray, 'imageLabelsVal is not a numpy array'\n",
        "        assert imageLabelsVal.shape == (1327,),'imageLabelsVal array is not of the expected size'\n",
        "    else:\n",
        "        raise Exception('imageLabelsVal array not defined')\n",
        "        \n",
        "    print('Images labels and training/validation sets seem to be defined properly.')"
      ],
      "metadata": {
        "id": "UHUU1LqoIUQV"
      },
      "execution_count": null,
      "outputs": []
    },
    {
      "cell_type": "code",
      "source": [
        "question2b(imagesTest,imageLabelsTest,imagesTrain,imageLabelsTrain,imagesVal,imageLabelsVal)"
      ],
      "metadata": {
        "colab": {
          "base_uri": "https://localhost:8080/"
        },
        "id": "P0jbkNT3L5bb",
        "outputId": "80ef1832-98a3-49bd-98c2-90e749398c4a"
      },
      "execution_count": null,
      "outputs": [
        {
          "output_type": "stream",
          "name": "stdout",
          "text": [
            "Images labels and training/validation sets seem to be defined properly.\n"
          ]
        }
      ]
    },
    {
      "cell_type": "markdown",
      "source": [
        "# **Question 2c**"
      ],
      "metadata": {
        "id": "bLLX3RvbNlRt"
      }
    },
    {
      "cell_type": "code",
      "source": [
        "path='/content/casting_data/test'\n",
        "imagesTest,imageLabelsTest = loadImageFiles(path,filesPerClass = 800)"
      ],
      "metadata": {
        "colab": {
          "base_uri": "https://localhost:8080/"
        },
        "id": "E67Lh2-rdzaA",
        "outputId": "96884b25-9d5c-4e8a-a81e-294ce7e42ceb"
      },
      "execution_count": null,
      "outputs": [
        {
          "output_type": "stream",
          "name": "stdout",
          "text": [
            "Loading folder:  ok_front\n",
            "Loading folder:  def_front\n"
          ]
        },
        {
          "output_type": "execute_result",
          "data": {
            "text/plain": [
              "(715, 300, 300)"
            ]
          },
          "metadata": {},
          "execution_count": 14
        }
      ]
    },
    {
      "cell_type": "code",
      "source": [
        "def question2c(imageModel,imageLossTest,imageAccTest,imagesTest,imageLabelsTest):\n",
        "    imageModel.summary()\n",
        "\n",
        "    if 'imageLossTest' in locals():\n",
        "        assert type(imageLossTest) == float, 'imageLossTest is not a float'\n",
        "    else:\n",
        "        raise Exception('imageLossTest not defined')\n",
        "        \n",
        "    if 'imageAccTest' in locals():\n",
        "        assert type(imageAccTest) == float, 'imageAccTest is not a float'\n",
        "    else:\n",
        "        raise Exception('imageAccTest not defined')\n",
        "        \n",
        "    if 'imageModel' in locals():\n",
        "        assert type(imageModel) == tf.keras.Sequential, 'imageModel is not a keras model'\n",
        "        \n",
        "        #assert len(modelOpt.layers) in [2,3,5], 'The number of hidden layers in the model is outside the specified values'\n",
        "        #assert modelOpt.layers[1].units in [64,128,256,512], 'The number of hidden units in the model is outside the specified values'\n",
        "    \n",
        "        assert type(imageModel.layers[0])==tf.keras.layers.Conv2D, 'The first layer of your network should be convolutional'\n",
        "        assert type(imageModel.layers[1])==tf.keras.layers.MaxPooling2D, 'The second layer of your network should be max pooling'\n",
        "        assert type(imageModel.layers[2])==tf.keras.layers.Conv2D, 'The third layer of your network should be convolutional'\n",
        "        assert type(imageModel.layers[3])==tf.keras.layers.MaxPooling2D, 'The fourth layer of your network should be max pooling'\n",
        "        \n",
        "        imageLossTestRef, imageAccTestRef = imageModel.evaluate(imagesTest,  imageLabelsTest)\n",
        "        \n",
        "        assert imageAccTest==imageAccTestRef, 'The value stored in imageAccTest seems to be different than the accuracy of your model for the test set.'\n",
        "        \n",
        "        assert imageAccTestRef>0.95, 'The accuracy of your model seems very low. Make sure you have trained it properly.'\n",
        "    else:\n",
        "        raise Exception('imageModel array not defined')\n",
        "        \n",
        "    print('The keras model seems to be defined and trained properly!')"
      ],
      "metadata": {
        "id": "xMQJuwGpedSE"
      },
      "execution_count": null,
      "outputs": []
    },
    {
      "cell_type": "code",
      "source": [
        "imageLossTest, imageAccTest = imageModel.evaluate(imagesTest,  imageLabelsTest)"
      ],
      "metadata": {
        "colab": {
          "base_uri": "https://localhost:8080/"
        },
        "id": "ksd3SC2UfUpK",
        "outputId": "7562d951-ab43-48e1-9f86-18fab77c9169"
      },
      "execution_count": null,
      "outputs": [
        {
          "output_type": "stream",
          "name": "stdout",
          "text": [
            "23/23 [==============================] - 15s 625ms/step - loss: 0.0049 - accuracy: 0.9986\n"
          ]
        }
      ]
    },
    {
      "cell_type": "code",
      "source": [
        "import tensorflow as tf\n",
        "imageModel = tf.keras.models.load_model('/content/imageModel')"
      ],
      "metadata": {
        "id": "cz9tRc5b2HpS"
      },
      "execution_count": null,
      "outputs": []
    },
    {
      "cell_type": "code",
      "source": [
        "question2c(imageModel,imageLossTest,imageAccTest,imagesTest,imageLabelsTest)"
      ],
      "metadata": {
        "id": "afgiqcQ5wayE",
        "colab": {
          "base_uri": "https://localhost:8080/"
        },
        "outputId": "6531bcec-52bf-43c1-93cc-8417c27e277e"
      },
      "execution_count": null,
      "outputs": [
        {
          "output_type": "stream",
          "name": "stdout",
          "text": [
            "Model: \"sequential_1\"\n",
            "_________________________________________________________________\n",
            " Layer (type)                Output Shape              Param #   \n",
            "=================================================================\n",
            " conv2d_2 (Conv2D)           (None, 298, 298, 32)      320       \n",
            "                                                                 \n",
            " max_pooling2d_2 (MaxPooling  (None, 149, 149, 32)     0         \n",
            " 2D)                                                             \n",
            "                                                                 \n",
            " conv2d_3 (Conv2D)           (None, 147, 147, 32)      9248      \n",
            "                                                                 \n",
            " max_pooling2d_3 (MaxPooling  (None, 73, 73, 32)       0         \n",
            " 2D)                                                             \n",
            "                                                                 \n",
            " flatten_1 (Flatten)         (None, 170528)            0         \n",
            "                                                                 \n",
            " dense_2 (Dense)             (None, 128)               21827712  \n",
            "                                                                 \n",
            " dropout_1 (Dropout)         (None, 128)               0         \n",
            "                                                                 \n",
            " dense_3 (Dense)             (None, 3)                 387       \n",
            "                                                                 \n",
            "=================================================================\n",
            "Total params: 21,837,667\n",
            "Trainable params: 21,837,667\n",
            "Non-trainable params: 0\n",
            "_________________________________________________________________\n",
            "23/23 [==============================] - 15s 630ms/step - loss: 0.0049 - accuracy: 0.9986\n",
            "The keras model seems to be defined and trained properly!\n"
          ]
        }
      ]
    },
    {
      "cell_type": "markdown",
      "source": [
        "# **Question 2d**"
      ],
      "metadata": {
        "id": "7bk6BVbCVFuZ"
      }
    },
    {
      "cell_type": "code",
      "source": [
        "from sklearn.model_selection import train_test_split\n",
        "\n",
        "lettersTrain, lettersTest, labelsTrain, labelsTest = train_test_split(imagesTrain,imageLabelsTrain, train_size=0.2)"
      ],
      "metadata": {
        "id": "hGptCIBAc1Zq"
      },
      "execution_count": null,
      "outputs": []
    },
    {
      "cell_type": "code",
      "source": [
        "layerOutputs = [layer.output for layer in imageModel.layers[:2]]\n",
        "\n",
        "activationModel = tf.keras.models.Model(inputs=imageModel.input, outputs=layerOutputs)\n",
        "\n",
        "nfig=4\n",
        "images = lettersTest[:nfig]\n",
        "\n",
        "activations=activationModel.predict(images)\n",
        "\n",
        "nfilt=3\n",
        "\n",
        "plt.figure(figsize=(12,12))\n",
        "\n",
        "for i in range(nfig):\n",
        "    plt.subplot(nfilt+1,nfig,i+1)\n",
        "    plt.xticks([])\n",
        "    plt.yticks([])\n",
        "    plt.grid(False)\n",
        "    plt.imshow(images[i,:,:], cmap='gray')\n",
        "\n",
        "c=nfig+1\n",
        "for i in range(nfilt):\n",
        "    for j in range(nfig):\n",
        "        plt.subplot(nfilt+1,nfig,c)\n",
        "        plt.xticks([])\n",
        "        plt.yticks([])\n",
        "        plt.grid(False)\n",
        "        plt.imshow(activations[0][j, :, :, i], cmap='viridis')\n",
        "        c+=1\n",
        "        \n",
        "plt.show()"
      ],
      "metadata": {
        "id": "YwHnTXDgwa-d",
        "colab": {
          "base_uri": "https://localhost:8080/",
          "height": 724
        },
        "outputId": "7cb62fce-c8da-4f5f-bb4d-d70e89d1e0b5"
      },
      "execution_count": null,
      "outputs": [
        {
          "output_type": "stream",
          "name": "stdout",
          "text": [
            "WARNING:tensorflow:6 out of the last 6 calls to <function Model.make_predict_function.<locals>.predict_function at 0x7ff601db23b0> triggered tf.function retracing. Tracing is expensive and the excessive number of tracings could be due to (1) creating @tf.function repeatedly in a loop, (2) passing tensors with different shapes, (3) passing Python objects instead of tensors. For (1), please define your @tf.function outside of the loop. For (2), @tf.function has experimental_relax_shapes=True option that relaxes argument shapes that can avoid unnecessary retracing. For (3), please refer to https://www.tensorflow.org/guide/function#controlling_retracing and https://www.tensorflow.org/api_docs/python/tf/function for  more details.\n"
          ]
        },
        {
          "output_type": "display_data",
          "data": {
            "text/plain": [
              "<Figure size 864x864 with 16 Axes>"
            ],
            "image/png": "[encoded data removed]"
          },
          "metadata": {}
        }
      ]
    },
    {
      "cell_type": "code",
      "source": [
        ""
      ],
      "metadata": {
        "id": "DwyCLBGewbDh"
      },
      "execution_count": null,
      "outputs": []
    }
  ]
}